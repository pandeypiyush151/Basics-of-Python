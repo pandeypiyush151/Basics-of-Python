{
 "cells": [
  {
   "cell_type": "markdown",
   "id": "e2e604c7",
   "metadata": {},
   "source": [
    "# Assignment - Basics of python"
   ]
  },
  {
   "cell_type": "markdown",
   "id": "8d647380",
   "metadata": {},
   "source": [
    "### Question 1 \n",
    "Write a Python program that checks whether a given number is prime or not. A prime number is a natural number greater than 1 that has no positive divisors other than 1 and itself."
   ]
  },
  {
   "cell_type": "code",
   "execution_count": 1,
   "id": "c909ae6b",
   "metadata": {},
   "outputs": [
    {
     "name": "stdout",
     "output_type": "stream",
     "text": [
      "False\n",
      "True\n"
     ]
    }
   ],
   "source": [
    "def is_prime(num):\n",
    "  if num <= 1:\n",
    "    return False\n",
    "  for i in range(2, int(num**0.5) + 1):\n",
    "    if num % i == 0:\n",
    "      return False\n",
    "  return True\n",
    "\n",
    "print(is_prime(10))  # False\n",
    "print(is_prime(11))  # True"
   ]
  },
  {
   "cell_type": "markdown",
   "id": "ba00906f",
   "metadata": {},
   "source": [
    "### Question-2 \n",
    "Develop a Python program that generates two random numbers and asks the user to enter the product of these numbers. The program should then check if the user's answer is correct and display an appropriate message.\n"
   ]
  },
  {
   "cell_type": "code",
   "execution_count": 2,
   "id": "00233720",
   "metadata": {},
   "outputs": [
    {
     "name": "stdout",
     "output_type": "stream",
     "text": [
      "Enter the product of 52 and 47: 221\n",
      "Incorrect. The correct answer is 2444\n"
     ]
    }
   ],
   "source": [
    "import random\n",
    "\n",
    "# Generate two random numbers\n",
    "num1 = random.randint(1, 100)\n",
    "num2 = random.randint(1, 100)\n",
    "\n",
    "# Get the product of the two numbers\n",
    "product = num1 * num2\n",
    "\n",
    "# Ask the user to enter the product\n",
    "user_product = int(input(\"Enter the product of \" + str(num1) + \" and \" + str(num2) + \": \"))\n",
    "\n",
    "# Check if the user's answer is correct\n",
    "if user_product == product:\n",
    "  print(\"Correct!\")\n",
    "else:\n",
    "  print(\"Incorrect. The correct answer is\", product)\n"
   ]
  },
  {
   "cell_type": "markdown",
   "id": "9a23b13f",
   "metadata": {},
   "source": [
    "### Question-3\n",
    "\n",
    "Create a Python script that prints the squares of all even or odd numbers within the range of 100 to 200. Choose either even or odd numbers and document your choice in the code."
   ]
  },
  {
   "cell_type": "code",
   "execution_count": 3,
   "id": "94ff3cf5",
   "metadata": {},
   "outputs": [
    {
     "name": "stdout",
     "output_type": "stream",
     "text": [
      "Squares of even numbers within the range of 100 to 200 :\n",
      "100 squared is 10000\n",
      "102 squared is 10404\n",
      "104 squared is 10816\n",
      "106 squared is 11236\n",
      "108 squared is 11664\n",
      "110 squared is 12100\n",
      "112 squared is 12544\n",
      "114 squared is 12996\n",
      "116 squared is 13456\n",
      "118 squared is 13924\n",
      "120 squared is 14400\n",
      "122 squared is 14884\n",
      "124 squared is 15376\n",
      "126 squared is 15876\n",
      "128 squared is 16384\n",
      "130 squared is 16900\n",
      "132 squared is 17424\n",
      "134 squared is 17956\n",
      "136 squared is 18496\n",
      "138 squared is 19044\n",
      "140 squared is 19600\n",
      "142 squared is 20164\n",
      "144 squared is 20736\n",
      "146 squared is 21316\n",
      "148 squared is 21904\n",
      "150 squared is 22500\n",
      "152 squared is 23104\n",
      "154 squared is 23716\n",
      "156 squared is 24336\n",
      "158 squared is 24964\n",
      "160 squared is 25600\n",
      "162 squared is 26244\n",
      "164 squared is 26896\n",
      "166 squared is 27556\n",
      "168 squared is 28224\n",
      "170 squared is 28900\n",
      "172 squared is 29584\n",
      "174 squared is 30276\n",
      "176 squared is 30976\n",
      "178 squared is 31684\n",
      "180 squared is 32400\n",
      "182 squared is 33124\n",
      "184 squared is 33856\n",
      "186 squared is 34596\n",
      "188 squared is 35344\n",
      "190 squared is 36100\n",
      "192 squared is 36864\n",
      "194 squared is 37636\n",
      "196 squared is 38416\n",
      "198 squared is 39204\n",
      "200 squared is 40000\n"
     ]
    }
   ],
   "source": [
    "# Print squares of all even numbers within the range of 100 to 200\n",
    "\n",
    "# We choose even numbers\n",
    "start = 100\n",
    "end = 200\n",
    "\n",
    "print(\"Squares of even numbers within the range of\", start, \"to\", end, \":\")\n",
    "\n",
    "for number in range(start, end + 1):\n",
    "    if number % 2 == 0:  # Check if the number is even\n",
    "        print(number, \"squared is\", number ** 2)"
   ]
  },
  {
   "cell_type": "markdown",
   "id": "e2cd41bc",
   "metadata": {},
   "source": [
    "### Question 4 \n",
    "write a program to count the number of words in a given text."
   ]
  },
  {
   "cell_type": "code",
   "execution_count": 4,
   "id": "39bb5bef",
   "metadata": {},
   "outputs": [
    {
     "name": "stdout",
     "output_type": "stream",
     "text": [
      "Enter a sentence: This is a sample text. This text will be used to demonstrate the word counter\n",
      "This: 2\n",
      "is: 1\n",
      "a: 1\n",
      "sample: 1\n",
      "text.: 1\n",
      "text: 1\n",
      "will: 1\n",
      "be: 1\n",
      "used: 1\n",
      "to: 1\n",
      "demonstrate: 1\n",
      "the: 1\n",
      "word: 1\n",
      "counter: 1\n"
     ]
    }
   ],
   "source": [
    "text = input(\"Enter a sentence: \")\n",
    "\n",
    "# Split the sentence into words\n",
    "words = text.split()\n",
    "\n",
    "# Create a dictionary to store the word counts\n",
    "word_counts = {}\n",
    "\n",
    "# Count the number of occurrences of each word\n",
    "for word in words:\n",
    "  if word in word_counts:\n",
    "    word_counts[word] += 1\n",
    "  else:\n",
    "    word_counts[word] = 1\n",
    "\n",
    "# Print the word counts\n",
    "for word, count in word_counts.items():\n",
    "  print(f\"{word}: {count}\")\n"
   ]
  },
  {
   "cell_type": "markdown",
   "id": "43a376f5",
   "metadata": {},
   "source": [
    "### Question 5\n",
    "Write a Python function called is_palindrome that takes a string as input and returns True if the string is a palindrome, and False otherwise. A palindrome is a word, phrase, number, or other sequence of characters that reads the same forward and backward, ignoring spaces, punctuation, and capitalization"
   ]
  },
  {
   "cell_type": "code",
   "execution_count": 5,
   "id": "39f6ee1c",
   "metadata": {},
   "outputs": [
    {
     "name": "stdout",
     "output_type": "stream",
     "text": [
      "Enter a word: racecar\n",
      "racecar is a palindrome.\n"
     ]
    }
   ],
   "source": [
    "def is_palindrome(word):\n",
    "  \"\"\"\n",
    "  Checks if a word is a palindrome.\n",
    "\n",
    "  Args:\n",
    "    word: The word to check.\n",
    "\n",
    "  Returns:\n",
    "    True if the word is a palindrome, False otherwise.\n",
    "  \"\"\"\n",
    "\n",
    "  # Convert the word to lowercase and remove all non-alphanumeric characters\n",
    "  word = word.lower().replace(\" \", \"\").replace(\",\", \"\").replace(\".\", \"\")\n",
    "\n",
    "  # Check if the word is the same forwards and backwards\n",
    "  for i in range(len(word) // 2):\n",
    "    if word[i] != word[len(word) - i - 1]:\n",
    "      return False\n",
    "\n",
    "  return True\n",
    "\n",
    "# Example usage\n",
    "word = input(\"Enter a word: \")\n",
    "\n",
    "if is_palindrome(word):\n",
    "  print(f\"{word} is a palindrome.\")\n",
    "else:\n",
    "  print(f\"{word} is not a palindrome.\")\n"
   ]
  },
  {
   "cell_type": "code",
   "execution_count": null,
   "id": "c9e8f753",
   "metadata": {},
   "outputs": [],
   "source": []
  }
 ],
 "metadata": {
  "kernelspec": {
   "display_name": "Python 3 (ipykernel)",
   "language": "python",
   "name": "python3"
  },
  "language_info": {
   "codemirror_mode": {
    "name": "ipython",
    "version": 3
   },
   "file_extension": ".py",
   "mimetype": "text/x-python",
   "name": "python",
   "nbconvert_exporter": "python",
   "pygments_lexer": "ipython3",
   "version": "3.11.5"
  }
 },
 "nbformat": 4,
 "nbformat_minor": 5
}
